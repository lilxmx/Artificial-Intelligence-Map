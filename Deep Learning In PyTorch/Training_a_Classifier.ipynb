{
  "nbformat": 4,
  "nbformat_minor": 0,
  "metadata": {
    "colab": {
      "name": "Training a Classifier.ipynb",
      "provenance": [],
      "authorship_tag": "ABX9TyNL3adMnNs0MQ6sQhJ1vsYH",
      "include_colab_link": true
    },
    "kernelspec": {
      "name": "python3",
      "display_name": "Python 3"
    },
    "language_info": {
      "name": "python"
    },
    "accelerator": "GPU"
  },
  "cells": [
    {
      "cell_type": "markdown",
      "metadata": {
        "id": "view-in-github",
        "colab_type": "text"
      },
      "source": [
        "<a href=\"https://colab.research.google.com/github/lilxmx/Artificial-Intelligence-Map/blob/main/Deep%20Learning%20In%20PyTorch/Training_a_Classifier.ipynb\" target=\"_parent\"><img src=\"https://colab.research.google.com/assets/colab-badge.svg\" alt=\"Open In Colab\"/></a>"
      ]
    },
    {
      "cell_type": "markdown",
      "source": [
        "## 训练一个分类器\n",
        "上一讲中已经看到如何去定义一个神经网络，计算损失值和更新网络的权重。 你现在可能在想下一步。\n",
        "### 关于数据？\n",
        "一般情况下处理图像、文本、音频和视频数据时，可以使用标准的Python包来加载数据到一个numpy数组中。 然后把这个数组转换成 torch.*Tensor。  \n",
        "\n",
        "- 图像可以使用 `Pillow`, `OpenCV`\n",
        "- 音频可以使用 `scipy`, `librosa`\n",
        "- 文本可以使用原始Python和Cython来加载，或者使用 `NLTK`或 `SpaCy` 处理  \n",
        "\n",
        "特别的，对于图像任务，我们创建了一个包 `torchvision`，它包含了处理一些基本图像数据集的方法。这些数据集包括 Imagenet, CIFAR10, MNIST 等。除了数据加载以外，torchvision 还包含了图像转换器， `torchvision.datasets` 和 `torch.utils.data.DataLoader`。\n",
        "\n",
        "`torchvision`包不仅提供了巨大的便利，也避免了代码的重复。\n",
        "\n",
        "在这个教程中，我们使用CIFAR10数据集，它有如下10个类别 ：‘airplane’, ‘automobile’, ‘bird’, ‘cat’, ‘deer’, ‘dog’, ‘frog’, ‘horse’, ‘ship’, ‘truck’。CIFAR-10的图像都是 3x32x32大小的，即，3颜色通道，32x32像素。\n",
        "![](https://pytorch.org/tutorials/_images/cifar10.png)"
      ],
      "metadata": {
        "id": "wudV6slRDEKm"
      }
    },
    {
      "cell_type": "markdown",
      "source": [
        "### 训练一个图像分类器\n",
        "依次按照下列顺序进行：\n",
        "\n",
        "1. 使用torchvision加载和归一化CIFAR10训练集和测试集\n",
        "2. 定义一个卷积神经网络\n",
        "3. 定义损失函数\n",
        "4. 在训练集上训练网络\n",
        "5. 在测试集上测试网络"
      ],
      "metadata": {
        "id": "avdL4YWxDf5n"
      }
    },
    {
      "cell_type": "markdown",
      "source": [
        "#### 1. 读取和归一化 CIFAR10\n",
        "使用torchvision可以非常容易地加载CIFAR10。"
      ],
      "metadata": {
        "id": "nIAH2bWGDw16"
      }
    },
    {
      "cell_type": "code",
      "source": [
        "import torch\n",
        "import torchvision\n",
        "import torchvision.transforms as transforms"
      ],
      "metadata": {
        "id": "5HtYXFQGD4in"
      },
      "execution_count": 33,
      "outputs": []
    },
    {
      "cell_type": "markdown",
      "source": [
        "torchvision的输出是[0,1]的PILImage图像，我们把它转换为归一化范围为[-1, 1]的张量。"
      ],
      "metadata": {
        "id": "tuq_xxU0D8gc"
      }
    },
    {
      "cell_type": "code",
      "source": [
        "# 这里应是定一个了一个转换器，包含PILImage转Tensor和归一化两个功能\n",
        "# Compose 组合操作\n",
        "transform = transforms.Compose(\n",
        "    [transforms.ToTensor(),\n",
        "     # 标准化Normalize a tensor image with mean and standard deviation.\n",
        "     # __init__(mean, std, inplace=False)\n",
        "     # 为什么要将mean和std统一设为0.5\n",
        "     transforms.Normalize((0.5, 0.5, 0.5), (0.5, 0.5, 0.5))])\n",
        "# 下载训练集\n",
        "trainset = torchvision.datasets.CIFAR10(root='./data', train=True,download=True, transform=transform)\n",
        "# 创建训练集加载器，因为不是一个个样本读取，是一次读取多个样本，batch_siza=4，download表示确认下载到本地保存，transform指定了转换器                                        \n",
        "trainloader = torch.utils.data.DataLoader(trainset, batch_size=4,shuffle=True, num_workers=2)\n",
        "\n",
        "testset = torchvision.datasets.CIFAR10(root='./data', train=False,download=True, transform=transform)\n",
        "testloader = torch.utils.data.DataLoader(testset, batch_size=4,shuffle=False, num_workers=2)\n",
        "\n",
        "classes = ('plane', 'car', 'bird', 'cat', 'deer', 'dog', 'frog', 'horse', 'ship', 'truck')"
      ],
      "metadata": {
        "colab": {
          "base_uri": "https://localhost:8080/"
        },
        "id": "NJtKqGarEAdY",
        "outputId": "112d13a1-46ee-48dd-93f7-98c47f89e847"
      },
      "execution_count": 34,
      "outputs": [
        {
          "output_type": "stream",
          "name": "stdout",
          "text": [
            "Files already downloaded and verified\n",
            "Files already downloaded and verified\n"
          ]
        }
      ]
    },
    {
      "cell_type": "markdown",
      "source": [
        "我们展示一些训练图像。"
      ],
      "metadata": {
        "id": "ACTzQyohFVWm"
      }
    },
    {
      "cell_type": "code",
      "source": [
        "import matplotlib.pyplot as plt\n",
        "import numpy as np\n",
        "\n",
        "# 展示图像的函数\n",
        "\n",
        "def imshow(img):\n",
        "    img = img / 2 + 0.5     # unnormalize\n",
        "    npimg = img.numpy()\n",
        "    # np.transpose转换numpy的维度，参数是`transpose(a, argsort(axes))`时，将原数组的维度按argsort的维度下标重新调整\n",
        "    # 将元npimg的第二维调整到第一维的位置，第三维调整到第二维的位置，第一维调整到第三维的位置\n",
        "    plt.imshow(np.transpose(npimg, (1, 2, 0)))\n",
        "    # >>> x = np.ones((1, 2, 3))\n",
        "    # >>> np.transpose(x, (1, 0, 2)).shape\n",
        "    # (2, 1, 3)\n",
        "\n",
        "\n",
        "# 获取随机数据，将加载器的数据变为一个可迭代对象，不需要一次性全部加载到内存中\n",
        "dataiter = iter(trainloader)\n",
        "images, labels = dataiter.next()\n",
        "# images.shape [4, 3, 32, 32]\n",
        "\n",
        "# 按表格形式展示图像，一行默认8张图像\n",
        "imshow(torchvision.utils.make_grid(images))\n",
        "# 显示图像标签\n",
        "print(' '.join('%11s' % classes[labels[j]] for j in range(4)))"
      ],
      "metadata": {
        "colab": {
          "base_uri": "https://localhost:8080/",
          "height": 156
        },
        "id": "-8jubJH-FWC4",
        "outputId": "4491b801-3ad0-418f-b025-50d164159aa5"
      },
      "execution_count": 35,
      "outputs": [
        {
          "output_type": "stream",
          "name": "stdout",
          "text": [
            "        dog        ship         cat        frog\n"
          ]
        },
        {
          "output_type": "display_data",
          "data": {
            "image/png": "[encoded data removed]",
            "text/plain": [
              "<Figure size 432x288 with 1 Axes>"
            ]
          },
          "metadata": {
            "needs_background": "light"
          }
        }
      ]
    },
    {
      "cell_type": "markdown",
      "source": [
        "#### 2. 定义一个卷积神经网络\n",
        "从之前的神经网络一节复制神经网络代码，并修改为输入3通道图像。"
      ],
      "metadata": {
        "id": "ZcvQfnfTGEzq"
      }
    },
    {
      "cell_type": "code",
      "source": [
        "import torch.nn as nn\n",
        "import torch.nn.functional as F\n",
        "\n",
        "\n",
        "class Net(nn.Module):\n",
        "    def __init__(self):\n",
        "        super(Net, self).__init__()\n",
        "        self.conv1 = nn.Conv2d(3, 6, 5)\n",
        "        self.pool = nn.MaxPool2d(2, 2)\n",
        "        self.conv2 = nn.Conv2d(6, 16, 5)\n",
        "        self.fc1 = nn.Linear(16 * 5 * 5, 120)\n",
        "        self.fc2 = nn.Linear(120, 84)\n",
        "        self.fc3 = nn.Linear(84, 10)\n",
        "\n",
        "    def forward(self, x):\n",
        "        x = self.pool(F.relu(self.conv1(x)))\n",
        "        x = self.pool(F.relu(self.conv2(x)))\n",
        "        x = x.view(-1, 16 * 5 * 5)\n",
        "        x = F.relu(self.fc1(x))\n",
        "        x = F.relu(self.fc2(x))\n",
        "        x = self.fc3(x)\n",
        "        return x\n",
        "\n",
        "\n",
        "net = Net()"
      ],
      "metadata": {
        "id": "lZkc0AUUxjkq"
      },
      "execution_count": 36,
      "outputs": []
    },
    {
      "cell_type": "markdown",
      "source": [
        "#### 3. 定义损失函数和优化器\n",
        "我们使用交叉熵作为损失函数，使用带动量的随机梯度下降。"
      ],
      "metadata": {
        "id": "2g5XeCZPRjlk"
      }
    },
    {
      "cell_type": "code",
      "source": [
        "import torch.optim as optim\n",
        "\n",
        "criterion = nn.CrossEntropyLoss()\n",
        "optimizer = optim.SGD(net.parameters(), lr=0.001, momentum=0.9)"
      ],
      "metadata": {
        "id": "msvPp0glRnAh"
      },
      "execution_count": 37,
      "outputs": []
    },
    {
      "cell_type": "markdown",
      "source": [
        "#### 4. 训练网路\n",
        "有趣的时刻开始了。 我们只需在数据迭代器上循环，将数据输入给网络，并优化。"
      ],
      "metadata": {
        "id": "BGVt2CK9RrQb"
      }
    },
    {
      "cell_type": "code",
      "source": [
        "len(trainloader)"
      ],
      "metadata": {
        "colab": {
          "base_uri": "https://localhost:8080/"
        },
        "id": "V409IBh0SNqn",
        "outputId": "0d6582ec-001b-400f-b8ab-b885d79bd054"
      },
      "execution_count": 38,
      "outputs": [
        {
          "output_type": "execute_result",
          "data": {
            "text/plain": [
              "12500"
            ]
          },
          "metadata": {},
          "execution_count": 38
        }
      ]
    },
    {
      "cell_type": "code",
      "source": [
        "for epoch in range(2):  # 多批次循环\n",
        "\n",
        "    running_loss = 0.0\n",
        "    for i, data in enumerate(trainloader, 0):\n",
        "        # 获取输入\n",
        "        inputs, labels = data\n",
        "\n",
        "        # 梯度置0\n",
        "        optimizer.zero_grad()\n",
        "\n",
        "        # 正向传播\n",
        "        outputs = net(inputs)\n",
        "        loss = criterion(outputs, labels)\n",
        "        # 误差反向传播\n",
        "        loss.backward()\n",
        "        # 开启优化\n",
        "        optimizer.step()\n",
        "\n",
        "        # 打印状态信息\n",
        "        running_loss += loss.item()\n",
        "        if i % 2000 == 1999:    # 每2000批次打印一次\n",
        "            print('[%d, %5d] loss: %.3f' %\n",
        "                  (epoch + 1, i + 1, running_loss / 2000))\n",
        "            running_loss = 0.0\n",
        "\n",
        "print('Finished Training')"
      ],
      "metadata": {
        "colab": {
          "base_uri": "https://localhost:8080/"
        },
        "id": "S_zhXb9fRt2G",
        "outputId": "a8585370-fe1e-4fc1-eaa2-a68e413592cd"
      },
      "execution_count": 39,
      "outputs": [
        {
          "output_type": "stream",
          "name": "stdout",
          "text": [
            "[1,  2000] loss: 2.216\n",
            "[1,  4000] loss: 1.870\n",
            "[1,  6000] loss: 1.666\n",
            "[1,  8000] loss: 1.591\n",
            "[1, 10000] loss: 1.540\n",
            "[1, 12000] loss: 1.461\n",
            "[2,  2000] loss: 1.403\n",
            "[2,  4000] loss: 1.356\n",
            "[2,  6000] loss: 1.351\n",
            "[2,  8000] loss: 1.316\n",
            "[2, 10000] loss: 1.324\n",
            "[2, 12000] loss: 1.286\n",
            "Finished Training\n"
          ]
        }
      ]
    },
    {
      "cell_type": "markdown",
      "source": [
        "#### 5. 在测试集上测试网络\n",
        "我们在整个训练集上进行了2次训练，但是我们需要检查网络是否从数据集中学习到有用的东西。 通过预测神经网络输出的类别标签与实际情况标签进行对比来进行检测。 如果预测正确，我们把该样本添加到正确预测列表。 第一步，显示测试集中的图片并熟悉图片内容。"
      ],
      "metadata": {
        "id": "RRhX_zl3TaXo"
      }
    },
    {
      "cell_type": "code",
      "source": [
        "dataiter = iter(testloader)\n",
        "images, labels = dataiter.next()\n",
        "\n",
        "# 显示图片\n",
        "imshow(torchvision.utils.make_grid(images))\n",
        "print('GroundTruth: ', ' '.join('%5s' % classes[labels[j]] for j in range(4)))"
      ],
      "metadata": {
        "colab": {
          "base_uri": "https://localhost:8080/",
          "height": 156
        },
        "id": "7M9d8yg5TgGJ",
        "outputId": "9c644085-649c-41fc-e5e1-5e7b36509733"
      },
      "execution_count": 40,
      "outputs": [
        {
          "output_type": "stream",
          "name": "stdout",
          "text": [
            "GroundTruth:    cat  ship  ship plane\n"
          ]
        },
        {
          "output_type": "display_data",
          "data": {
            "image/png": "[encoded data removed]",
            "text/plain": [
              "<Figure size 432x288 with 1 Axes>"
            ]
          },
          "metadata": {
            "needs_background": "light"
          }
        }
      ]
    },
    {
      "cell_type": "markdown",
      "source": [
        "让我们看看神经网络认为以上图片是什么。"
      ],
      "metadata": {
        "id": "KBLTmZJwTjng"
      }
    },
    {
      "cell_type": "code",
      "source": [
        "outputs = net(images)\n",
        "print(outputs.shape)"
      ],
      "metadata": {
        "colab": {
          "base_uri": "https://localhost:8080/"
        },
        "id": "fxGmL1xHTk56",
        "outputId": "b428c9bd-2979-400b-8533-7308a75109d4"
      },
      "execution_count": 41,
      "outputs": [
        {
          "output_type": "stream",
          "name": "stdout",
          "text": [
            "torch.Size([4, 10])\n"
          ]
        }
      ]
    },
    {
      "cell_type": "markdown",
      "source": [
        "输出是10个标签的能量。 一个类别的能量越大，神经网络越认为它是这个类别。所以让我们得到最高能量的标签。"
      ],
      "metadata": {
        "id": "uBrdBMuOTpL6"
      }
    },
    {
      "cell_type": "code",
      "source": [
        "# output = torch.max(input, dim)\n",
        "# input是softmax函数输出的一个tensor\n",
        "# dim是max函数索引的维度0/1，0是每列的最大值，1是每行的最大值\n",
        "# 函数会返回两个tensor，第一个tensor是每行的最大值；第二个tensor是每行最大值的索引。\n",
        "_, predicted = torch.max(outputs, 1)\n",
        "print(predicted) # [3, 8, 8, 0] 就是各行最大值对应的索引\n",
        "\n",
        "print('Predicted: ', ' '.join('%5s' % classes[predicted[j]] for j in range(4)))"
      ],
      "metadata": {
        "colab": {
          "base_uri": "https://localhost:8080/"
        },
        "id": "2xV4kFIAToi6",
        "outputId": "7e038ead-f403-4478-d869-7c134d7b9232"
      },
      "execution_count": 42,
      "outputs": [
        {
          "output_type": "stream",
          "name": "stdout",
          "text": [
            "tensor([3, 1, 1, 8])\n",
            "Predicted:    cat   car   car  ship\n"
          ]
        }
      ]
    },
    {
      "cell_type": "markdown",
      "source": [
        "接下来让看看网络在整个测试集上的结果如何。"
      ],
      "metadata": {
        "id": "SWBs7WRLTo3Y"
      }
    },
    {
      "cell_type": "code",
      "source": [
        "len(testloader) # 2500批次，每批次4个数据，共10000个数据"
      ],
      "metadata": {
        "colab": {
          "base_uri": "https://localhost:8080/"
        },
        "id": "EZrvjB-oVif-",
        "outputId": "3f0fe271-378e-444c-cc69-458a88c0512a"
      },
      "execution_count": 43,
      "outputs": [
        {
          "output_type": "execute_result",
          "data": {
            "text/plain": [
              "2500"
            ]
          },
          "metadata": {},
          "execution_count": 43
        }
      ]
    },
    {
      "cell_type": "markdown",
      "source": [
        ""
      ],
      "metadata": {
        "id": "xcZphlW9gtq7"
      }
    },
    {
      "cell_type": "code",
      "source": [
        "correct = 0\n",
        "total = 0\n",
        "with torch.no_grad():\n",
        "    for data in testloader:\n",
        "        images, labels = data\n",
        "        outputs = net(images)\n",
        "        _, predicted = torch.max(outputs.data, 1)\n",
        "        total += labels.size(0)\n",
        "        correct += (predicted == labels).sum().item()\n",
        "\n",
        "print('Accuracy of the network on the 10000 test images: %d %%' % (100 * correct / total))"
      ],
      "metadata": {
        "colab": {
          "base_uri": "https://localhost:8080/"
        },
        "id": "5F64AHiMU0x3",
        "outputId": "3373ae26-d9a8-4d2c-c708-8ffb38bc0c2d"
      },
      "execution_count": 44,
      "outputs": [
        {
          "output_type": "stream",
          "name": "stdout",
          "text": [
            "Accuracy of the network on the 10000 test images: 56 %\n"
          ]
        }
      ]
    },
    {
      "cell_type": "markdown",
      "source": [
        "结果看起来不错，至少比随机选择要好，随机选择的正确率为55%。 似乎网络学习到了一些东西。\n",
        "\n",
        "在识别哪一个类的时候好，哪一个不好呢？"
      ],
      "metadata": {
        "id": "3m05W5ZXX_M0"
      }
    },
    {
      "cell_type": "code",
      "source": [
        "class_correct = list(0. for i in range(10))\n",
        "class_total = list(0. for i in range(10))\n",
        "with torch.no_grad():\n",
        "    for data in testloader:\n",
        "        images, labels = data\n",
        "        outputs = net(images)\n",
        "        _, predicted = torch.max(outputs, 1)\n",
        "        c = (predicted == labels).squeeze()\n",
        "        for i in range(4):\n",
        "            label = labels[i]\n",
        "            class_correct[label] += c[i].item()\n",
        "            class_total[label] += 1\n",
        "\n",
        "\n",
        "for i in range(10):\n",
        "    print('Accuracy of %5s : %2d %%' % (\n",
        "        classes[i], 100 * class_correct[i] / class_total[i]))\n",
        "    "
      ],
      "metadata": {
        "colab": {
          "base_uri": "https://localhost:8080/"
        },
        "id": "-rOzNoygWaY0",
        "outputId": "61b4d8c1-36a6-4546-d6e9-c9bc2af51dfe"
      },
      "execution_count": 45,
      "outputs": [
        {
          "output_type": "stream",
          "name": "stdout",
          "text": [
            "Accuracy of plane : 58 %\n",
            "Accuracy of   car : 78 %\n",
            "Accuracy of  bird : 45 %\n",
            "Accuracy of   cat : 35 %\n",
            "Accuracy of  deer : 28 %\n",
            "Accuracy of   dog : 47 %\n",
            "Accuracy of  frog : 81 %\n",
            "Accuracy of horse : 59 %\n",
            "Accuracy of  ship : 75 %\n",
            "Accuracy of truck : 55 %\n"
          ]
        }
      ]
    },
    {
      "cell_type": "markdown",
      "source": [
        "下一步?\n",
        "\n",
        "我们如何在GPU上运行神经网络呢？"
      ],
      "metadata": {
        "id": "_wut1BpcYXA1"
      }
    },
    {
      "cell_type": "markdown",
      "source": [
        "#### 在GPU上训练\n",
        "把一个神经网络移动到GPU上训练就像把一个Tensor转换GPU上一样简单。并且这个操作会递归遍历有所模块，并将其参数和缓冲区转换为CUDA张量。"
      ],
      "metadata": {
        "id": "1JIHWjh-YdGx"
      }
    },
    {
      "cell_type": "code",
      "source": [
        "device = torch.device(\"cuda:0\" if torch.cuda.is_available() else \"cpu\")\n",
        "\n",
        "# 确认我们的电脑支持CUDA，然后显示CUDA信息：\n",
        "\n",
        "print(device)"
      ],
      "metadata": {
        "colab": {
          "base_uri": "https://localhost:8080/"
        },
        "id": "Wq2myo_eYcVz",
        "outputId": "49d4f44a-0036-48f7-de17-4c66cb7afa80"
      },
      "execution_count": 46,
      "outputs": [
        {
          "output_type": "stream",
          "name": "stdout",
          "text": [
            "cuda:0\n"
          ]
        }
      ]
    },
    {
      "cell_type": "markdown",
      "source": [
        "本节的其余部分假定device是CUDA设备。\n",
        "\n",
        "然后这些方法将递归遍历所有模块并将模块的参数和缓冲区 转换成CUDA张量："
      ],
      "metadata": {
        "id": "KMuyuahvZ-YG"
      }
    },
    {
      "cell_type": "code",
      "source": [
        "net.to(device)"
      ],
      "metadata": {
        "colab": {
          "base_uri": "https://localhost:8080/"
        },
        "id": "xlGA8zFEaCZp",
        "outputId": "5140a37f-bedb-4fcf-c628-6f87cc8ae681"
      },
      "execution_count": 47,
      "outputs": [
        {
          "output_type": "execute_result",
          "data": {
            "text/plain": [
              "Net(\n",
              "  (conv1): Conv2d(3, 6, kernel_size=(5, 5), stride=(1, 1))\n",
              "  (pool): MaxPool2d(kernel_size=2, stride=2, padding=0, dilation=1, ceil_mode=False)\n",
              "  (conv2): Conv2d(6, 16, kernel_size=(5, 5), stride=(1, 1))\n",
              "  (fc1): Linear(in_features=400, out_features=120, bias=True)\n",
              "  (fc2): Linear(in_features=120, out_features=84, bias=True)\n",
              "  (fc3): Linear(in_features=84, out_features=10, bias=True)\n",
              ")"
            ]
          },
          "metadata": {},
          "execution_count": 47
        }
      ]
    },
    {
      "cell_type": "code",
      "source": [
        "inputs, labels = inputs.to(device), labels.to(device)"
      ],
      "metadata": {
        "id": "dotuoaUXaHeV"
      },
      "execution_count": 48,
      "outputs": []
    },
    {
      "cell_type": "markdown",
      "source": [
        "记住：inputs, targets 和 images 也要转换。\n",
        "\n"
      ],
      "metadata": {
        "id": "VvzouLAOaFay"
      }
    },
    {
      "cell_type": "markdown",
      "source": [
        "为什么我们没注意到GPU的速度提升很多？那是因为网络非常的小。\n",
        "\n",
        "实践: 尝试增加你的网络的宽度（第一个nn.Conv2d的第2个参数，第二个nn.Conv2d的第一个参数，它们需要是相同的数字），看看你得到了什么样的加速。\n",
        "\n",
        "实现的目标:\n",
        "\n",
        "深入了解了PyTorch的张量库和神经网络\n",
        "训练了一个小网络来分类图片\n",
        "译者注：后面我们教程会训练一个真正的网络，使识别率达到90%以上。"
      ],
      "metadata": {
        "id": "jIX8Iy0daK9D"
      }
    },
    {
      "cell_type": "markdown",
      "source": [
        "#### 多GPU训练\n",
        "如果你想使用所有的GPU得到更大的加速， 请查看数据并行处理。\n",
        "\n",
        "下一步？\n",
        ":doc:训练神经网络玩电子游戏 </intermediate/reinforcement_q_learning>  \n",
        "- 在ImageNet上训练最好的ResNet\n",
        "- 使用对抗生成网络来训练一个人脸生成器\n",
        "- 使用LSTM网络训练一个字符级的语言模型\n",
        "- 更多示例\n",
        "- 更多教程\n",
        "- 在论坛上讨论PyTorch\n",
        "- Slack上与其他用户讨论\n"
      ],
      "metadata": {
        "id": "fPO0yMRKauCc"
      }
    }
  ]
}