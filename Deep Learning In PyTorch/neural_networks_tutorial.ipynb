{
  "cells": [
    {
      "cell_type": "markdown",
      "metadata": {
        "id": "view-in-github",
        "colab_type": "text"
      },
      "source": [
        "<a href=\"https://colab.research.google.com/github/lilxmx/DeepLearning-pytorch/blob/main/neural_networks_tutorial.ipynb\" target=\"_parent\"><img src=\"https://colab.research.google.com/assets/colab-badge.svg\" alt=\"Open In Colab\"/></a>"
      ]
    },
    {
      "cell_type": "code",
      "execution_count": null,
      "metadata": {
        "id": "DqVn8QcWkwGH"
      },
      "outputs": [],
      "source": [
        "%matplotlib inline"
      ]
    },
    {
      "cell_type": "markdown",
      "metadata": {
        "id": "SCwdWNJpkwGc"
      },
      "source": [
        "\n",
        "神经网络\n",
        "===============\n",
        "\n",
        "神经网络通过``torch.nn``构造.\n",
        "\n",
        "现在你已经对``autograd`` 有了一个大致的了解, ``nn`` 依赖 ``autograd``去定义模型并对其参数进行微分。\n",
        "一个模型``nn.Module`` 包含很多层，一个方法 ``forward(input)`` 可以返回模型结果 ``output``.\n",
        "\n",
        "例如，用于手写数字图像分类的网络模型\n",
        "![network that classifies digit images](https://pytorch.org/tutorials/_images/mnist.png)\n",
        "\n",
        "它是一个简单的前馈神经网络，获取输入，一层一层向后传递，最终获取输出值。\n",
        "\n",
        "一个神经网络经典训练流程如下:\n",
        "\n",
        "- 定义神经网络的可学习的参数（或权重weights）\n",
        "- 迭代输入数据集\n",
        "- 将输入数据传入网络\n",
        "- 计算损失函数（正确值和预测值相差多少）\n",
        "- 对网络的参数进行反向传播\n",
        "- 更新网络的权重，通常使用一个简单的更新规则:\n",
        "  ``weight = weight - learning_rate * gradient``\n",
        "\n",
        "定义网络结构\n",
        "------------------\n",
        "\n",
        "我们一起来定义一个网络结构吧：\n",
        "\n"
      ]
    },
    {
      "cell_type": "code",
      "execution_count": null,
      "metadata": {
        "colab": {
          "base_uri": "https://localhost:8080/"
        },
        "id": "T5xflIN4kwGj",
        "outputId": "dab289d6-cd5d-4e5e-ce10-d00fb4b9efa4"
      },
      "outputs": [
        {
          "name": "stdout",
          "output_type": "stream",
          "text": [
            "Net(\n",
            "  (conv1): Conv2d(1, 6, kernel_size=(5, 5), stride=(1, 1))\n",
            "  (conv2): Conv2d(6, 16, kernel_size=(5, 5), stride=(1, 1))\n",
            "  (fc1): Linear(in_features=400, out_features=120, bias=True)\n",
            "  (fc2): Linear(in_features=120, out_features=84, bias=True)\n",
            "  (fc3): Linear(in_features=84, out_features=10, bias=True)\n",
            ")\n"
          ]
        }
      ],
      "source": [
        "import torch\n",
        "import torch.nn as nn\n",
        "import torch.nn.functional as F\n",
        "\n",
        "\n",
        "class Net(nn.Module):\n",
        "\n",
        "    def __init__(self):\n",
        "        super(Net, self).__init__()\n",
        "        # 1 input image channel, 6 output channels, 5x5 square convolution\n",
        "        # kernel\n",
        "        self.conv1 = nn.Conv2d(1, 6, 5)\n",
        "        self.conv2 = nn.Conv2d(6, 16, 5)\n",
        "        # an affine operation: y = Wx + b\n",
        "        self.fc1 = nn.Linear(16 * 5 * 5, 120)  # 5*5 from image dimension \n",
        "        self.fc2 = nn.Linear(120, 84)\n",
        "        self.fc3 = nn.Linear(84, 10)\n",
        "\n",
        "    def forward(self, x):\n",
        "        # Max pooling over a (2, 2) window\n",
        "        x = F.max_pool2d(F.relu(self.conv1(x)), (2, 2))\n",
        "        # If the size is a square, you can specify with a single number\n",
        "        x = F.max_pool2d(F.relu(self.conv2(x)), 2)\n",
        "        x = torch.flatten(x, 1) # flatten all dimensions except the batch dimension\n",
        "        x = F.relu(self.fc1(x))\n",
        "        x = F.relu(self.fc2(x))\n",
        "        x = self.fc3(x)\n",
        "        return x\n",
        "\n",
        "\n",
        "net = Net()\n",
        "print(net)"
      ]
    },
    {
      "cell_type": "markdown",
      "metadata": {
        "id": "OF0kSBaHkwGn"
      },
      "source": [
        "你只定义了前向传播（``forward``）函数, 用于计算梯度的反向传播（``backward``）函数已经自动定义了。  \n",
        "你可以使用任意Tensor操作（operations）在``forward``函数中  \n",
        "``net.parameters()``方法可以返回一个模型可学习的参数\n",
        "\n",
        "\n"
      ]
    },
    {
      "cell_type": "code",
      "execution_count": null,
      "metadata": {
        "colab": {
          "base_uri": "https://localhost:8080/"
        },
        "id": "ZqFy0gMxkwG0",
        "outputId": "8729decf-1386-4b2b-d3fa-0d3ba4448974"
      },
      "outputs": [
        {
          "name": "stdout",
          "output_type": "stream",
          "text": [
            "10\n",
            "torch.Size([6, 1, 5, 5])\n"
          ]
        }
      ],
      "source": [
        "params = list(net.parameters())\n",
        "print(len(params))\n",
        "print(params[0].size())  # conv1's .weight"
      ]
    },
    {
      "cell_type": "markdown",
      "metadata": {
        "id": "FHvUNyP6kwG4"
      },
      "source": [
        "让我们随机生成一个32x32的输入数据来测试这个网络吧！  \n",
        "**注意**: LeNet神经网络允许的输入数据形状是 32x32。 在此网络上使用MNIST数据集，请重新设置数据集中图片的形状为 32x32.\n",
        "\n"
      ]
    },
    {
      "cell_type": "code",
      "execution_count": null,
      "metadata": {
        "colab": {
          "base_uri": "https://localhost:8080/"
        },
        "id": "2zM69fzzkwG7",
        "outputId": "58ffe993-fa13-4660-9370-576007e1af05"
      },
      "outputs": [
        {
          "name": "stdout",
          "output_type": "stream",
          "text": [
            "tensor([[ 0.2039,  0.0686,  0.0305,  0.1299, -0.1100, -0.0012, -0.0745,  0.1204,\n",
            "          0.0217,  0.0494]], grad_fn=<AddmmBackward0>)\n"
          ]
        }
      ],
      "source": [
        "input = torch.randn(1, 1, 32, 32)\n",
        "out = net(input)\n",
        "print(out)"
      ]
    },
    {
      "cell_type": "markdown",
      "metadata": {
        "id": "SeEun-uTkwHC"
      },
      "source": [
        "将所有参数的梯度缓存清零，然后进行随机梯度的的反向传播：\n",
        "\n"
      ]
    },
    {
      "cell_type": "code",
      "execution_count": null,
      "metadata": {
        "id": "u7WtMCuHkwHH"
      },
      "outputs": [],
      "source": [
        "net.zero_grad()\n",
        "out.backward(torch.randn(1, 10))"
      ]
    },
    {
      "cell_type": "markdown",
      "metadata": {
        "id": "aLsi5DFYkwHK"
      },
      "source": [
        "#### 注意：  \n",
        "``torch.nn``仅支持输入数据为mini-batches类型，不能直接使用数据集的全部样本或者单个样本进行训练.  \n",
        "例如，``nn.Conv2d`` 需要输入数据为4维张量，其形状为：``（nSamples x nChannels x Height x Width）``。  \n",
        " 如果你有单个样本，只需使用 ``input.unsqueeze(0)`` 来添加其它的维数\n",
        "\n",
        "在继续之前，我们回顾一下到目前为止用到的类。\n",
        "\n",
        "**回顾:**\n",
        "  -  ``torch.Tensor`` - 一个支持自动求导操作（``backward()）的多维数组A，存储者张量的梯度值。\n",
        "  -  ``nn.Module`` - 神经网络模块，提供了一种封装网络参数的便捷方式，有用于将参数移动到 GPU、导出、加载等的助手。\n",
        "  -  ``nn.Parameter`` - 一种变量，当把它赋值给一个Module时，被 自动 地注册为一个参数。\n",
        "  -  ``autograd.Function`` - 实现一个自动求导操作的前向和反向定义，每个变量操作至少创建一个函数节点，每一个Tensor的操作都回创建一个接到创建Tensor和 编码其历史的函数的Function节点。\n",
        "\n",
        "**已经介绍了：**\n",
        "  -  定义一个神经网络\n",
        "  -  处理输入，反向传播\n",
        "\n",
        "**还剩:**\n",
        "  -  计算损失函数\n",
        "  -  更新网络权重\n",
        "\n",
        "损失函数\n",
        "-------------\n",
        "一个损失函数接受一对 (output, target) 作为输入，计算一个值来估计网络的输出和目标值相差多少。  \n",
        "译者注：output为网络的输出，target为实际值\n",
        "\n",
        "nn包中有很多[不同的损失函数](https://pytorch.org/docs/stable/nn.html)。 nn.MSELoss是一个比较简单的损失函数，它计算输出和目标间的均方误差， 例如：\n",
        "\n"
      ]
    },
    {
      "cell_type": "code",
      "execution_count": null,
      "metadata": {
        "colab": {
          "base_uri": "https://localhost:8080/"
        },
        "id": "shexG7iBkwHN",
        "outputId": "c069fefb-730b-4ac0-c7ad-0ae5bde9e49d"
      },
      "outputs": [
        {
          "name": "stdout",
          "output_type": "stream",
          "text": [
            "tensor(1.0551, grad_fn=<MseLossBackward0>)\n"
          ]
        }
      ],
      "source": [
        "output = net(input)\n",
        "target = torch.randn(10)  # a dummy target, for example\n",
        "target = target.view(1, -1)  # make it the same shape as output\n",
        "criterion = nn.MSELoss()\n",
        "\n",
        "loss = criterion(output, target)\n",
        "print(loss)"
      ]
    },
    {
      "cell_type": "markdown",
      "metadata": {
        "id": "NrjFpixLkwHP"
      },
      "source": [
        "现在，如果在反向过程中跟随loss ， 使用它的 .grad_fn 属性，将看到如下所示的计算图。\n",
        "::\n",
        "\n",
        "    input -> conv2d -> relu -> maxpool2d -> conv2d -> relu -> maxpool2d\n",
        "          -> flatten -> linear -> relu -> linear -> relu -> linear\n",
        "          -> MSELoss\n",
        "          -> loss\n",
        "\n",
        "所以，当我们调用 loss.backward()时,整张计算图都会 根据loss进行微分，而且图中所有设置为requires_grad=True的张量 将会拥有一个随着梯度累积的.grad 张量。\n",
        "\n",
        "为了更好的解释这个现象，后退几步。\n"
      ]
    },
    {
      "cell_type": "code",
      "execution_count": null,
      "metadata": {
        "colab": {
          "base_uri": "https://localhost:8080/"
        },
        "id": "Qoju1NrpkwHQ",
        "outputId": "254d85f4-919a-4d43-bae9-3c7ef76c4eda"
      },
      "outputs": [
        {
          "name": "stdout",
          "output_type": "stream",
          "text": [
            "<MseLossBackward0 object at 0x7f760011ad50>\n",
            "<AddmmBackward0 object at 0x7f760011a1d0>\n",
            "<AccumulateGrad object at 0x7f760011af10>\n"
          ]
        }
      ],
      "source": [
        "print(loss.grad_fn)  # MSELoss\n",
        "print(loss.grad_fn.next_functions[0][0])  # Linear\n",
        "print(loss.grad_fn.next_functions[0][0].next_functions[0][0])  # ReLU"
      ]
    },
    {
      "cell_type": "markdown",
      "metadata": {
        "id": "CXw-iArEkwHT"
      },
      "source": [
        "反向传播\n",
        "--------\n",
        "调用`loss.backward()`获得反向传播的误差。\n",
        "\n",
        "但是在调用前需要清除已存在的梯度，否则梯度将被累加到已存在的梯度。\n",
        "\n",
        "现在，我们将调用`loss.backward()`，并查看conv1层的偏差（bias）项在反向传播前后的梯度。\n"
      ]
    },
    {
      "cell_type": "code",
      "execution_count": null,
      "metadata": {
        "colab": {
          "background_save": true,
          "base_uri": "https://localhost:8080/"
        },
        "id": "Ul1X2RoRkwHX",
        "outputId": "600bdd19-7977-4901-a22f-a3a2e149c8c0"
      },
      "outputs": [
        {
          "name": "stdout",
          "output_type": "stream",
          "text": [
            "conv1.bias.grad before backward\n",
            "tensor([0., 0., 0., 0., 0., 0.])\n",
            "conv1.bias.grad after backward\n",
            "tensor([ 0.0228,  0.0096,  0.0050,  0.0078, -0.0029,  0.0002])\n"
          ]
        }
      ],
      "source": [
        "net.zero_grad()     # zeroes the gradient buffers of all parameters\n",
        "\n",
        "print('conv1.bias.grad before backward')\n",
        "print(net.conv1.bias.grad)\n",
        "\n",
        "loss.backward()\n",
        "\n",
        "print('conv1.bias.grad after backward')\n",
        "print(net.conv1.bias.grad)"
      ]
    },
    {
      "cell_type": "markdown",
      "metadata": {
        "id": "oM31RH_5kwHZ"
      },
      "source": [
        "Now, we have seen how to use loss functions.\n",
        "\n",
        "稍后阅读：\n",
        "\n",
        "`nn`包，包含了各种用来构成深度神经网络构建块的模块和损失函数，完整的文档请查看[here](https://pytorch.org/docs/stable/nn.html)。\n",
        "\n",
        "剩下的最后一件事:\n",
        "\n",
        "- 更新网络的权重\n",
        "\n",
        "在实践中最简单的权重更新规则是随机梯度下降（SGD）：  \n",
        "\n",
        " ``weight = weight - learning_rate * gradient``  \n",
        "我们可以使用简单的Python代码实现这个规则：\n",
        "\n",
        ".. code:: python\n",
        "\n",
        "    learning_rate = 0.01\n",
        "    for f in net.parameters():\n",
        "        f.data.sub_(f.grad.data * learning_rate)\n",
        "\n",
        "但是当使用神经网络是想要使用各种不同的更新规则时，比如SGD、Nesterov-SGD、Adam、RMSPROP等，PyTorch中构建了一个包torch.optim实现了所有的这些规则。 使用它们非常简单：\n",
        "\n"
      ]
    },
    {
      "cell_type": "code",
      "execution_count": 10,
      "metadata": {
        "id": "vJ_IwlCCkwHa"
      },
      "outputs": [],
      "source": [
        "import torch.optim as optim\n",
        "\n",
        "# create your optimizer\n",
        "optimizer = optim.SGD(net.parameters(), lr=0.01)\n",
        "\n",
        "# in your training loop:\n",
        "optimizer.zero_grad()   # zero the gradient buffers\n",
        "output = net(input)\n",
        "loss = criterion(output, target)\n",
        "loss.backward()\n",
        "optimizer.step()    # Does the update"
      ]
    },
    {
      "cell_type": "markdown",
      "metadata": {
        "id": "YZ6wHypukwHb"
      },
      "source": [
        "#### 注意：\n",
        "\n",
        "  观察如何使用``optimizer.zero_grad()``手动将梯度缓冲区设置为零。\n",
        "  这是因为梯度是按Backprop部分中的说明累积的\n",
        "\n"
      ]
    }
  ],
  "metadata": {
    "colab": {
      "name": "neural_networks_tutorial.ipynb",
      "provenance": [],
      "include_colab_link": true
    },
    "kernelspec": {
      "display_name": "Python 3",
      "language": "python",
      "name": "python3"
    },
    "language_info": {
      "codemirror_mode": {
        "name": "ipython",
        "version": 3
      },
      "file_extension": ".py",
      "mimetype": "text/x-python",
      "name": "python",
      "nbconvert_exporter": "python",
      "pygments_lexer": "ipython3",
      "version": "3.6.13"
    }
  },
  "nbformat": 4,
  "nbformat_minor": 0
}