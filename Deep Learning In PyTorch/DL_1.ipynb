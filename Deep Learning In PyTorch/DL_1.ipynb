{
  "cells": [
    {
      "cell_type": "markdown",
      "metadata": {
        "id": "view-in-github",
        "colab_type": "text"
      },
      "source": [
        "<a href=\"https://colab.research.google.com/github/lilxmx/DeepLearning-pytorch/blob/main/DL_1.ipynb\" target=\"_parent\"><img src=\"https://colab.research.google.com/assets/colab-badge.svg\" alt=\"Open In Colab\"/></a>"
      ]
    },
    {
      "cell_type": "markdown",
      "metadata": {
        "id": "Li96weOHELNM"
      },
      "source": [
        "## 1.tensor"
      ]
    },
    {
      "cell_type": "code",
      "execution_count": 4,
      "metadata": {
        "id": "U6uWnA4_-mbM",
        "colab": {
          "base_uri": "https://localhost:8080/"
        },
        "outputId": "2f070ecf-5ccb-47ff-ba33-8452013dcda0"
      },
      "outputs": [
        {
          "output_type": "stream",
          "name": "stdout",
          "text": [
            "<class 'torch.Tensor'>\n",
            "torch.float32\n",
            "tensor([[-6.7065e+07,  3.0648e-41,  3.3631e-44],\n",
            "        [ 0.0000e+00,         nan,  3.0648e-41],\n",
            "        [ 1.1578e+27,  1.1362e+30,  7.1547e+22],\n",
            "        [ 4.5828e+30,  1.2121e+04,  7.1846e+22],\n",
            "        [ 9.2198e-39,  7.0374e+22, -1.4291e+07]])\n"
          ]
        }
      ],
      "source": [
        "import torch\n",
        "\n",
        "x = torch.empty(5, 3)\n",
        "print(type(x))\n",
        "print(x.dtype)\n",
        "print(x)"
      ]
    },
    {
      "cell_type": "markdown",
      "metadata": {
        "id": "CK0EJQT3A7AU"
      },
      "source": [
        "### 0、1初始化"
      ]
    },
    {
      "cell_type": "code",
      "execution_count": null,
      "metadata": {
        "colab": {
          "base_uri": "https://localhost:8080/"
        },
        "id": "_2n6kf6uA6ZL",
        "outputId": "56586c56-377e-46e2-8669-d89e458b41b9"
      },
      "outputs": [
        {
          "name": "stdout",
          "output_type": "stream",
          "text": [
            "torch.float32\n",
            "tensor([[1., 1., 1.],\n",
            "        [1., 1., 1.]])\n",
            "torch.float32\n",
            "tensor([[0., 0., 0.],\n",
            "        [0., 0., 0.]])\n",
            "torch.int64\n"
          ]
        }
      ],
      "source": [
        "tensor_ones = torch.ones(2,3)\n",
        "print(tensor_ones.dtype)\n",
        "print(tensor_ones)\n",
        "tensor_zeros = torch.zeros(2,3)\n",
        "print(tensor_zeros.dtype)\n",
        "print(tensor_zeros)\n",
        "tensor_zeros_int = torch.zeros(2,3,dtype=torch.long)\n",
        "print(tensor_zeros_int.dtype)"
      ]
    },
    {
      "cell_type": "markdown",
      "metadata": {
        "id": "Q60PpLVIBHWP"
      },
      "source": [
        "### 随机初始化\n",
        "- torch.rand:生成服从区间[0,1)均匀分布的随机张量\n",
        "- torch.randn:生成服从均值为0、方差为1正太分布的随机张量"
      ]
    },
    {
      "cell_type": "code",
      "execution_count": null,
      "metadata": {
        "colab": {
          "base_uri": "https://localhost:8080/"
        },
        "id": "huk2oSRsBF_z",
        "outputId": "7996a5ab-d058-4828-8a37-53b599ed9ad6"
      },
      "outputs": [
        {
          "name": "stdout",
          "output_type": "stream",
          "text": [
            "tensor([[0.0103, 0.0444],\n",
            "        [0.9518, 0.7599],\n",
            "        [0.3008, 0.7977],\n",
            "        [0.1023, 0.0748]])\n",
            "tensor([[-0.3452,  1.4190, -1.5034,  0.7290],\n",
            "        [ 0.9279,  0.5008,  0.0441, -0.5407],\n",
            "        [ 1.6513, -0.3367,  1.6356, -0.5487]])\n"
          ]
        }
      ],
      "source": [
        "torch_rand = torch.rand(4,2)\n",
        "print(torch_rand)\n",
        "torch_randn = torch.randn(3,4)\n",
        "print(torch_randn)"
      ]
    },
    {
      "cell_type": "markdown",
      "metadata": {
        "id": "5-5ek39nBp0Q"
      },
      "source": [
        "### 已有数据进行初始化\n",
        "- 普通python数据结构\n",
        "- 基于已有的tensor来创建新的tensor，通常是为了复用已有tensor的一些属性，包括shape和dtype"
      ]
    },
    {
      "cell_type": "code",
      "execution_count": null,
      "metadata": {
        "colab": {
          "base_uri": "https://localhost:8080/"
        },
        "id": "HwdIcBaYBtgR",
        "outputId": "16f5d650-c417-4c68-87dc-9d8a18a9521d"
      },
      "outputs": [
        {
          "name": "stdout",
          "output_type": "stream",
          "text": [
            "tensor([3, 2, 3, 4])\n"
          ]
        }
      ],
      "source": [
        "datalist = [3,2,3,4]\n",
        "print(torch.tensor(datalist))"
      ]
    },
    {
      "cell_type": "code",
      "execution_count": null,
      "metadata": {
        "id": "UpJf5WT8CZWs"
      },
      "outputs": [],
      "source": [
        "x = torch.tensor([5.5, 3], dtype=torch.double)\n",
        "print(x,x.dtype)\n",
        "x = x.new_ones(5, 3)      # new_* methods take in sizes\n",
        "print(x,x.dtype)\n",
        "x = torch.randn_like(x, dtype=torch.float)    # override dtype!\n",
        "print(x,x.dtype)                                      # result has the same size\n"
      ]
    },
    {
      "cell_type": "markdown",
      "metadata": {
        "id": "N7hoiZUeC9OK"
      },
      "source": [
        "`new_ones`函数复用了x的dtype属性，`randn_like`函数复用了x的shape同时通过手动指定数据类型覆盖了原有的dtype属性"
      ]
    },
    {
      "cell_type": "markdown",
      "metadata": {
        "id": "jdW919X2DLMw"
      },
      "source": [
        "### 大小size\n",
        "torch.Size本质上是一个tuple，通过上面的例子也可以看出，它支持元组的操作。"
      ]
    },
    {
      "cell_type": "code",
      "execution_count": null,
      "metadata": {
        "colab": {
          "base_uri": "https://localhost:8080/"
        },
        "id": "_kPs9HxiDROs",
        "outputId": "bea844f3-0675-4917-cef5-9d2b00923de0"
      },
      "outputs": [
        {
          "name": "stdout",
          "output_type": "stream",
          "text": [
            "torch.Size([5, 3])\n",
            "5 3\n"
          ]
        }
      ],
      "source": [
        "x_size = x.size()\n",
        "print(x_size)\n",
        "row, col = x_size\n",
        "print(row, col)"
      ]
    },
    {
      "cell_type": "markdown",
      "metadata": {
        "id": "rSwAFApRDhAE"
      },
      "source": [
        "### torch.arange\n",
        "用于生成一定范围内等间隔的一维数组。参数有三个，分别是范围的起始值、范围的结束值和步长，使用示例："
      ]
    },
    {
      "cell_type": "code",
      "execution_count": null,
      "metadata": {
        "colab": {
          "base_uri": "https://localhost:8080/"
        },
        "id": "jPn-hVL0Dlga",
        "outputId": "83b08a96-37aa-4fc5-a503-6348f92ad905"
      },
      "outputs": [
        {
          "name": "stdout",
          "output_type": "stream",
          "text": [
            "tensor([1, 2, 3, 4, 5, 6, 7, 8, 9])\n"
          ]
        }
      ],
      "source": [
        "print(torch.arange(1,10,1))"
      ]
    },
    {
      "cell_type": "markdown",
      "metadata": {
        "id": "DR127azvEdOb"
      },
      "source": [
        "## 2.Operations"
      ]
    },
    {
      "cell_type": "markdown",
      "metadata": {
        "id": "MHTTRAXmEpL-"
      },
      "source": [
        "Operations(操作)涉及的语法和函数很多，大多数都是相通的，下面我们列举一些常用操作及其用法示例。\n",
        "\n",
        "### 张量间的元素级的四则运算，加减乘除\n",
        "\n",
        "有多种不同的使用方法，以加法为例：\n",
        "- 语法1:`x+y`\n",
        "- 语法2:`torch.add(x,y)`\n",
        "- 语法3:`torch.add(x,y,out=z3)` 通过参数的形式进行输出tensor的保存\n",
        "- 语法4：通过in-place操作直接将计算结果覆盖到y上,`y.add_(x)`。在Pytorch中，我们约定凡是会覆盖函数调用主体的in-place操作，都以后缀`_`结束，例如：\n",
        "`x.copy_(y)`，`x.t_()`，都会改变x的取值。"
      ]
    },
    {
      "cell_type": "code",
      "execution_count": null,
      "metadata": {
        "colab": {
          "base_uri": "https://localhost:8080/"
        },
        "id": "yvCp_5XDEuwN",
        "outputId": "d7fa87be-f4e0-4b1d-bd3d-2c4e640a53de"
      },
      "outputs": [
        {
          "name": "stdout",
          "output_type": "stream",
          "text": [
            "语法1：\n",
            "tensor([[1.4531, 1.8229, 1.8791],\n",
            "        [1.2508, 1.9210, 1.7967],\n",
            "        [1.1293, 1.7158, 1.7907],\n",
            "        [1.6583, 1.1473, 1.9914],\n",
            "        [1.9093, 1.8684, 1.8893]])\n",
            "语法2：\n",
            "tensor([[1.4531, 1.8229, 1.8791],\n",
            "        [1.2508, 1.9210, 1.7967],\n",
            "        [1.1293, 1.7158, 1.7907],\n",
            "        [1.6583, 1.1473, 1.9914],\n",
            "        [1.9093, 1.8684, 1.8893]])\n",
            "语法3：\n",
            "tensor([[1.4531, 1.8229, 1.8791],\n",
            "        [1.2508, 1.9210, 1.7967],\n",
            "        [1.1293, 1.7158, 1.7907],\n",
            "        [1.6583, 1.1473, 1.9914],\n",
            "        [1.9093, 1.8684, 1.8893]])\n",
            "语法4：\n",
            "tensor([[1.4531, 1.8229, 1.8791],\n",
            "        [1.2508, 1.9210, 1.7967],\n",
            "        [1.1293, 1.7158, 1.7907],\n",
            "        [1.6583, 1.1473, 1.9914],\n",
            "        [1.9093, 1.8684, 1.8893]])\n"
          ]
        }
      ],
      "source": [
        "x = torch.rand(5,3)\n",
        "y = torch.ones(5,3)\n",
        "print('语法1：'),print(x+y)\n",
        "print('语法2：'),print(torch.add(x,y))\n",
        "z3 = torch.ones(5,3)\n",
        "torch.add(x,y,out=z3)\n",
        "print('语法3：')\n",
        "print(z3)\n",
        "print('语法4：')\n",
        "print(y.add_(x))"
      ]
    },
    {
      "cell_type": "markdown",
      "metadata": {
        "id": "LR5Jf6oOLDnk"
      },
      "source": [
        "张量之间的减法、点乘和点除的用法是类似的："
      ]
    },
    {
      "cell_type": "code",
      "execution_count": null,
      "metadata": {
        "colab": {
          "base_uri": "https://localhost:8080/"
        },
        "id": "upa5rE5kLEJR",
        "outputId": "2b7b7c74-55be-46a6-d5fe-ff1f47b350f5"
      },
      "outputs": [
        {
          "name": "stdout",
          "output_type": "stream",
          "text": [
            "tensor([[-0.1725,  0.4341,  0.0860],\n",
            "        [ 0.5087, -1.1133,  1.2905]])\n",
            "tensor([[ 0.9284, -2.3935, -0.7159],\n",
            "        [ 0.9997, -0.5603, -1.1006]])\n",
            "tensor([[-1.1009,  2.8276,  0.8019],\n",
            "        [-0.4910, -0.5530,  2.3911]])\n",
            "tensor([[-0.1602, -1.0389, -0.0616],\n",
            "        [ 0.5085,  0.6238, -1.4203]])\n",
            "tensor([[-0.1858, -0.1813, -0.1202],\n",
            "        [ 0.5088,  1.9869, -1.1725]])\n"
          ]
        }
      ],
      "source": [
        "a =torch.randn(2,3)\n",
        "print(a)\n",
        "b =torch.randn(2,3)\n",
        "print(b)\n",
        "\n",
        "c =torch.sub(a, b)\n",
        "print(c)\n",
        "d =torch.mul(a, b)\n",
        "print(d)\n",
        "e =torch.div(a, b)\n",
        "print(e)\n"
      ]
    },
    {
      "cell_type": "markdown",
      "metadata": {
        "id": "ZS_-3Z6uLbFD"
      },
      "source": [
        "当然，张量和常数间的基本运算也是支持的"
      ]
    },
    {
      "cell_type": "code",
      "execution_count": null,
      "metadata": {
        "colab": {
          "base_uri": "https://localhost:8080/"
        },
        "id": "Rue6AbKaLcuo",
        "outputId": "195dedbe-34cd-4d23-b97c-813ae7a529ae"
      },
      "outputs": [
        {
          "name": "stdout",
          "output_type": "stream",
          "text": [
            "tensor([[-1.1340, -0.2232, -0.1493],\n",
            "        [ 0.6843,  0.9156, -0.0053]])\n",
            "tensor([[-11.3399,  -2.2316,  -1.4926],\n",
            "        [  6.8435,   9.1557,  -0.0526]])\n",
            "tensor([[-0.1134, -0.0223, -0.0149],\n",
            "        [ 0.0684,  0.0916, -0.0005]])\n"
          ]
        }
      ],
      "source": [
        "a =torch.randn(2,3)\n",
        "print(a)\n",
        "b =torch.mul(a,10)\n",
        "print(b)\n",
        "c =torch.div(a,10)\n",
        "print(c)\n"
      ]
    },
    {
      "cell_type": "markdown",
      "metadata": {
        "id": "8NZaQ8cHL8oJ"
      },
      "source": [
        "矩阵乘法计算需要用到`torch.mm`函数"
      ]
    },
    {
      "cell_type": "code",
      "execution_count": null,
      "metadata": {
        "colab": {
          "base_uri": "https://localhost:8080/"
        },
        "id": "2yotc-_SL-Fb",
        "outputId": "d425fcdd-b4e8-4f9b-ede2-38600dad0503"
      },
      "outputs": [
        {
          "name": "stdout",
          "output_type": "stream",
          "text": [
            "tensor([[1., 1., 1.],\n",
            "        [1., 1., 1.]])\n",
            "tensor([[1., 1.],\n",
            "        [1., 1.],\n",
            "        [1., 1.]])\n",
            "tensor([[3., 3.],\n",
            "        [3., 3.]])\n"
          ]
        }
      ],
      "source": [
        "a = torch.ones(2,3)\n",
        "b = torch.ones(3,2)\n",
        "print(a,b,sep='\\n')\n",
        "print(torch.mm(a,b))"
      ]
    },
    {
      "cell_type": "markdown",
      "metadata": {
        "id": "abhWUczzM13R"
      },
      "source": [
        "### 其他\n",
        "- `torch.abs`:计算张量的绝对值  \n",
        "- `torch.pow`:求幂操作"
      ]
    },
    {
      "cell_type": "code",
      "execution_count": null,
      "metadata": {
        "id": "cGeLzg0GM4C4"
      },
      "outputs": [],
      "source": [
        "a = torch.randn(3,3)\n",
        "print(a,torch.abs(a),sep='\\n')"
      ]
    },
    {
      "cell_type": "code",
      "execution_count": null,
      "metadata": {
        "id": "uGyF_wfENj3T"
      },
      "outputs": [],
      "source": [
        "a = torch.randn(2, 3)\n",
        "print(a)\n",
        "b = torch.pow(a, 2)\n",
        "print(b)\n"
      ]
    },
    {
      "cell_type": "markdown",
      "metadata": {
        "id": "mw2_uz24OWM2"
      },
      "source": [
        "- `Numpy-like`的索引操作"
      ]
    },
    {
      "cell_type": "code",
      "execution_count": null,
      "metadata": {
        "id": "5CIGkPR6OgoT"
      },
      "outputs": [],
      "source": [
        "print(a[:,0])"
      ]
    },
    {
      "cell_type": "markdown",
      "metadata": {
        "id": "yZ24Jn6vPMey"
      },
      "source": [
        "- `Resize`操作：\n",
        "如果你想要对tensor进行类似`resize/reshape`的操作，你可以使用  \n",
        "`torch.view(*shape) -> tensor`: Returns a new tensor with the same data as the self tensor but of a different shape.  \n",
        "Parameters  \n",
        "shape (torch.Size or int...) – the desired size"
      ]
    },
    {
      "cell_type": "markdown",
      "metadata": {
        "id": "F3Lya4SJSkIc"
      },
      "source": [
        ""
      ]
    },
    {
      "cell_type": "code",
      "execution_count": null,
      "metadata": {
        "id": "CtuCfOdhPOwT"
      },
      "outputs": [],
      "source": [
        "x = torch.randn(4, 4)\n",
        "y = x.view(16)\n",
        "z = x.view(-1, 8)   # 使用-1时pytorch将会自动根据其他维度进行推导\n",
        "print(x.size(), y.size(), z.size())  "
      ]
    },
    {
      "cell_type": "markdown",
      "metadata": {
        "id": "YNcy_tLASesF"
      },
      "source": [
        "- `item()`:如果有一个tensor，只包含一个元素，你可以使用.item()来获得它对应的Python形式的取值"
      ]
    },
    {
      "cell_type": "code",
      "execution_count": null,
      "metadata": {
        "id": "sHz30m-ESmaz"
      },
      "outputs": [],
      "source": [
        "a = torch.randn(1)\n",
        "print(a,a.size())\n",
        "print(a.item(),type(a.item()))"
      ]
    },
    {
      "cell_type": "markdown",
      "metadata": {
        "id": "-YKLveyZTXnm"
      },
      "source": [
        "- `torch.clamp`：通常我们在需要控制张量的取值范围不越界时，需要用到torch.clamp函数，它可以对输入参数按照自定义的范围进行裁剪，最后将参数裁剪的结果作为输出。输入参数一共有三个，分别是需要进行裁剪的Tensor变量、裁剪的下边界和裁剪的上边界"
      ]
    },
    {
      "cell_type": "code",
      "execution_count": null,
      "metadata": {
        "colab": {
          "base_uri": "https://localhost:8080/"
        },
        "id": "jL6UzRsuTdaR",
        "outputId": "bd6dee81-ea56-47c5-8bcf-293305affeeb"
      },
      "outputs": [
        {
          "name": "stdout",
          "output_type": "stream",
          "text": [
            "tensor([[ 1.4073, -1.9956,  0.3066],\n",
            "        [ 1.9485,  1.4006,  0.1117]])\n",
            "tensor([[ 0.5000, -0.5000,  0.3066],\n",
            "        [ 0.5000,  0.5000,  0.1117]])\n"
          ]
        }
      ],
      "source": [
        "import torch\n",
        "a =torch.randn(2,3)\n",
        "print(a)\n",
        "b =torch.clamp(a, -0.5, 0.5)\n",
        "print(b)"
      ]
    },
    {
      "cell_type": "markdown",
      "metadata": {
        "id": "AB7fLn7RTrOU"
      },
      "source": [
        "## 3.Numpy桥梁"
      ]
    },
    {
      "cell_type": "markdown",
      "metadata": {
        "id": "M7BZju5pUZsC"
      },
      "source": [
        "Pytorch中可以很方便的将Torch的Tensor同Numpy的ndarray进行互相转换，相当于在Numpy和Pytorch间建立了一座沟通的桥梁，这将会让我们的想法实现起来变得非常方便。\n",
        "\n",
        "注：Torch Tensor 和 Numpy ndarray 底层是分享内存空间的，也就是说改变其中之一会同时改变另一个（前提是你是在CPU上使用Torch Tensor）。**注：所有CPU上的Tensors，除了CharTensor均支持与Numpy的互相转换。**\n",
        "\n",
        "- 将一个Torch Tensor 转换为 Numpy Array"
      ]
    },
    {
      "cell_type": "code",
      "execution_count": null,
      "metadata": {
        "id": "C62alzf1Utux"
      },
      "outputs": [],
      "source": [
        "a = torch.ones(5)\n",
        "print(a)\n",
        "b = a.numpy()\n",
        "print(b)\n",
        "# 共享内存空间\n",
        "a.add_(1)\n",
        "print(a)\n",
        "print(b)"
      ]
    },
    {
      "cell_type": "markdown",
      "metadata": {
        "id": "hOLQF8VlU27D"
      },
      "source": [
        "- 将一个 Numpy Array 转换为 Torch Tensor"
      ]
    },
    {
      "cell_type": "code",
      "execution_count": 79,
      "metadata": {
        "id": "gb1-k0ylU6Ag",
        "colab": {
          "base_uri": "https://localhost:8080/"
        },
        "outputId": "c15ac2d6-6fca-448c-df17-fae82b56b157"
      },
      "outputs": [
        {
          "output_type": "stream",
          "name": "stdout",
          "text": [
            "[2. 2. 2. 2. 2.]\n",
            "tensor([2., 2., 2., 2., 2.], dtype=torch.float64)\n"
          ]
        }
      ],
      "source": [
        "import numpy as np\n",
        "a = np.ones(5)\n",
        "b = torch.from_numpy(a)\n",
        "np.add(a,1,out=a)\n",
        "print(a)\n",
        "print(b) "
      ]
    },
    {
      "cell_type": "markdown",
      "source": [
        "## 4.CUDA Tensors"
      ],
      "metadata": {
        "id": "NkvaesTzZSQK"
      }
    },
    {
      "cell_type": "markdown",
      "source": [
        "通过以下代码进行验证GPU环境："
      ],
      "metadata": {
        "id": "O9fS6WZFabwK"
      }
    },
    {
      "cell_type": "code",
      "source": [
        "# 必须切换至GPU环境\n",
        "print(torch.cuda.is_available())"
      ],
      "metadata": {
        "colab": {
          "base_uri": "https://localhost:8080/"
        },
        "id": "_XqgbIBaZaal",
        "outputId": "bde94a60-4b0b-425a-df52-b87abbfa7298"
      },
      "execution_count": 6,
      "outputs": [
        {
          "output_type": "stream",
          "name": "stdout",
          "text": [
            "True\n"
          ]
        }
      ]
    },
    {
      "cell_type": "markdown",
      "source": [
        "Tensors可以通过.to函数移动到任何我们定义的设备device上，观察如下代码："
      ],
      "metadata": {
        "id": "Ph4BM9WsZVsz"
      }
    },
    {
      "cell_type": "code",
      "source": [
        "# let us run this cell only if CUDA is available\n",
        "# We will use ``torch.device`` objects to move tensors in and out of GPU\n",
        "if torch.cuda.is_available():\n",
        "    device = torch.device(\"cuda\")          # a CUDA device object\n",
        "    y = torch.ones_like(x, device=device)  # directly create a tensor on GPU\n",
        "    x = x.to(device)                       # or just use strings ``.to(\"cuda\")``\n",
        "    z = x + y\n",
        "    print(z)\n",
        "    print(z.to(\"cpu\", torch.double))       # ``.to`` can also change dtype together!  \n"
      ],
      "metadata": {
        "colab": {
          "base_uri": "https://localhost:8080/"
        },
        "id": "FsKIrCdDalsz",
        "outputId": "e15066b3-727f-4d21-a162-626d8baf3681"
      },
      "execution_count": 7,
      "outputs": [
        {
          "output_type": "stream",
          "name": "stdout",
          "text": [
            "tensor([[-6.7065e+07,  1.0000e+00,  1.0000e+00],\n",
            "        [ 1.0000e+00,         nan,  1.0000e+00],\n",
            "        [ 1.1578e+27,  1.1362e+30,  7.1547e+22],\n",
            "        [ 4.5828e+30,  1.2122e+04,  7.1846e+22],\n",
            "        [ 1.0000e+00,  7.0374e+22, -1.4291e+07]], device='cuda:0')\n",
            "tensor([[-6.7065e+07,  1.0000e+00,  1.0000e+00],\n",
            "        [ 1.0000e+00,         nan,  1.0000e+00],\n",
            "        [ 1.1578e+27,  1.1362e+30,  7.1547e+22],\n",
            "        [ 4.5828e+30,  1.2122e+04,  7.1846e+22],\n",
            "        [ 1.0000e+00,  7.0374e+22, -1.4291e+07]], dtype=torch.float64)\n"
          ]
        }
      ]
    }
  ],
  "metadata": {
    "colab": {
      "collapsed_sections": [
        "Li96weOHELNM",
        "CK0EJQT3A7AU",
        "Q60PpLVIBHWP",
        "5-5ek39nBp0Q",
        "jdW919X2DLMw",
        "DR127azvEdOb"
      ],
      "name": "DL-1.ipynb",
      "provenance": [],
      "authorship_tag": "ABX9TyP2q5UsryTD2OWm5IKlchRG",
      "include_colab_link": true
    },
    "kernelspec": {
      "display_name": "Python 3",
      "name": "python3"
    },
    "language_info": {
      "name": "python"
    }
  },
  "nbformat": 4,
  "nbformat_minor": 0
}