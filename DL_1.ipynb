{
  "cells": [
    {
      "cell_type": "markdown",
      "metadata": {
        "id": "view-in-github",
        "colab_type": "text"
      },
      "source": [
        "<a href=\"https://colab.research.google.com/github/lilxmx/Artificial-Intelligence-Map/blob/main/DL_1.ipynb\" target=\"_parent\"><img src=\"https://colab.research.google.com/assets/colab-badge.svg\" alt=\"Open In Colab\"/></a>"
      ]
    },
    {
      "cell_type": "markdown",
      "metadata": {
        "id": "Li96weOHELNM"
      },
      "source": [
        "## 1.tensor"
      ]
    },
    {
      "cell_type": "code",
      "execution_count": null,
      "metadata": {
        "id": "U6uWnA4_-mbM",
        "colab": {
          "base_uri": "https://localhost:8080/"
        },
        "outputId": "35b981af-2e8b-4363-8e87-c61bc6bc12fc"
      },
      "outputs": [
        {
          "output_type": "stream",
          "name": "stdout",
          "text": [
            "<class 'torch.Tensor'>\n",
            "torch.float32\n",
            "tensor([[6.5962e+06, 3.0697e-41, 3.3631e-44],\n",
            "        [0.0000e+00,        nan, 3.0697e-41],\n",
            "        [1.1578e+27, 1.1362e+30, 7.1547e+22],\n",
            "        [4.5828e+30, 1.2121e+04, 7.1846e+22],\n",
            "        [9.2198e-39, 7.0374e+22, 1.2787e+06]])\n"
          ]
        }
      ],
      "source": [
        "import torch\n",
        "\n",
        "x = torch.empty(5, 3) #创建一个（5,3）矩阵，但是未初始化\n",
        "print(type(x))\n",
        "print(x.dtype)\n",
        "print(x)"
      ]
    },
    {
      "cell_type": "markdown",
      "metadata": {
        "id": "CK0EJQT3A7AU"
      },
      "source": [
        "### 0、1初始化"
      ]
    },
    {
      "cell_type": "code",
      "execution_count": null,
      "metadata": {
        "colab": {
          "base_uri": "https://localhost:8080/"
        },
        "id": "_2n6kf6uA6ZL",
        "outputId": "b57a07dd-f9e1-4a00-ac1c-787cacc300d1"
      },
      "outputs": [
        {
          "output_type": "stream",
          "name": "stdout",
          "text": [
            "torch.float32\n",
            "tensor([[1., 1., 1.],\n",
            "        [1., 1., 1.]])\n",
            "torch.float32\n",
            "tensor([[0., 0., 0.],\n",
            "        [0., 0., 0.]])\n",
            "torch.int64\n"
          ]
        }
      ],
      "source": [
        "tensor_ones = torch.ones(2,3)\n",
        "print(tensor_ones.dtype)\n",
        "print(tensor_ones)\n",
        "tensor_zeros = torch.zeros(2,3)\n",
        "print(tensor_zeros.dtype)\n",
        "print(tensor_zeros)\n",
        "tensor_zeros_int = torch.zeros(2,3,dtype=torch.long)\n",
        "print(tensor_zeros_int.dtype)"
      ]
    },
    {
      "cell_type": "markdown",
      "metadata": {
        "id": "Q60PpLVIBHWP"
      },
      "source": [
        "### 随机初始化\n",
        "- torch.rand:生成服从区间[0,1)均匀分布的随机张量\n",
        "- torch.randn:生成服从均值为0、方差为1正太分布的随机张量"
      ]
    },
    {
      "cell_type": "code",
      "execution_count": null,
      "metadata": {
        "colab": {
          "base_uri": "https://localhost:8080/"
        },
        "id": "huk2oSRsBF_z",
        "outputId": "4e9647fa-89be-4aaf-c450-dfb613784a8d"
      },
      "outputs": [
        {
          "output_type": "stream",
          "name": "stdout",
          "text": [
            "tensor([[0.5068, 0.5672],\n",
            "        [0.6313, 0.4697],\n",
            "        [0.7962, 0.0435],\n",
            "        [0.7697, 0.0526]])\n",
            "tensor([[-0.6158,  0.3252,  0.2965, -0.4213],\n",
            "        [-0.5245,  0.8311, -0.8359, -0.2286],\n",
            "        [ 0.2058,  1.1294, -0.1495, -0.1074]])\n"
          ]
        }
      ],
      "source": [
        "torch_rand = torch.rand(4,2)\n",
        "print(torch_rand)\n",
        "torch_randn = torch.randn(3,4)\n",
        "print(torch_randn)"
      ]
    },
    {
      "cell_type": "markdown",
      "metadata": {
        "id": "5-5ek39nBp0Q"
      },
      "source": [
        "### 已有数据进行初始化\n",
        "- 普通python数据结构\n",
        "- 基于已有的tensor来创建新的tensor，通常是为了复用已有tensor的一些属性，包括shape和dtype"
      ]
    },
    {
      "cell_type": "code",
      "execution_count": null,
      "metadata": {
        "colab": {
          "base_uri": "https://localhost:8080/"
        },
        "id": "HwdIcBaYBtgR",
        "outputId": "82a244b1-9cdc-4264-d57b-cd32b8848e36"
      },
      "outputs": [
        {
          "output_type": "stream",
          "name": "stdout",
          "text": [
            "tensor([3, 2, 3, 4])\n"
          ]
        }
      ],
      "source": [
        "datalist = [3,2,3,4]\n",
        "print(torch.tensor(datalist))"
      ]
    },
    {
      "cell_type": "code",
      "execution_count": null,
      "metadata": {
        "id": "UpJf5WT8CZWs",
        "colab": {
          "base_uri": "https://localhost:8080/"
        },
        "outputId": "602f3854-e3d8-4332-ce44-c38ee47f604f"
      },
      "outputs": [
        {
          "output_type": "stream",
          "name": "stdout",
          "text": [
            "tensor([5.5000, 3.0000], dtype=torch.float64) torch.float64\n",
            "tensor([[1., 1., 1.],\n",
            "        [1., 1., 1.],\n",
            "        [1., 1., 1.],\n",
            "        [1., 1., 1.],\n",
            "        [1., 1., 1.]], dtype=torch.float64) torch.float64\n",
            "tensor([[ 0.2812, -1.0670,  0.4012],\n",
            "        [-1.7926, -0.0152, -0.0807],\n",
            "        [ 0.5742, -1.7396, -0.9869],\n",
            "        [ 0.5504, -0.9233, -2.1691],\n",
            "        [ 0.0818,  0.4503, -0.1072]]) torch.float32\n"
          ]
        }
      ],
      "source": [
        "x = torch.tensor([5.5, 3], dtype=torch.double)\n",
        "print(x,x.dtype)\n",
        "x = x.new_ones(5, 3)      # new_* methods take in sizes\n",
        "print(x,x.dtype)\n",
        "x = torch.randn_like(x, dtype=torch.float)    # override dtype!\n",
        "print(x,x.dtype)                                      # result has the same size\n"
      ]
    },
    {
      "cell_type": "markdown",
      "metadata": {
        "id": "N7hoiZUeC9OK"
      },
      "source": [
        "`new_ones`函数复用了x的dtype属性，`randn_like`函数复用了x的shape同时通过手动指定数据类型覆盖了原有的dtype属性"
      ]
    },
    {
      "cell_type": "markdown",
      "metadata": {
        "id": "jdW919X2DLMw"
      },
      "source": [
        "### 大小size\n",
        "torch.Size本质上是一个tuple，通过上面的例子也可以看出，它支持元组的操作。"
      ]
    },
    {
      "cell_type": "code",
      "execution_count": null,
      "metadata": {
        "colab": {
          "base_uri": "https://localhost:8080/"
        },
        "id": "_kPs9HxiDROs",
        "outputId": "42bc7426-8874-4f04-cfd4-9e00b6bbb469"
      },
      "outputs": [
        {
          "output_type": "stream",
          "name": "stdout",
          "text": [
            "torch.Size([5, 3])\n",
            "5 3\n"
          ]
        }
      ],
      "source": [
        "x_size = x.size()\n",
        "print(x_size)\n",
        "row, col = x_size\n",
        "print(row, col)"
      ]
    },
    {
      "cell_type": "markdown",
      "metadata": {
        "id": "rSwAFApRDhAE"
      },
      "source": [
        "### torch.arange\n",
        "用于生成一定范围内等间隔的一维数组。参数有三个，分别是范围的起始值、范围的结束值和步长，使用示例："
      ]
    },
    {
      "cell_type": "code",
      "execution_count": null,
      "metadata": {
        "colab": {
          "base_uri": "https://localhost:8080/"
        },
        "id": "jPn-hVL0Dlga",
        "outputId": "72b904cb-8995-4cb3-90c4-b4cd3572e35b"
      },
      "outputs": [
        {
          "output_type": "stream",
          "name": "stdout",
          "text": [
            "tensor([1, 2, 3, 4, 5, 6, 7, 8, 9])\n"
          ]
        }
      ],
      "source": [
        "print(torch.arange(1,10,1))"
      ]
    },
    {
      "cell_type": "markdown",
      "metadata": {
        "id": "DR127azvEdOb"
      },
      "source": [
        "## 2.Operations"
      ]
    },
    {
      "cell_type": "markdown",
      "metadata": {
        "id": "MHTTRAXmEpL-"
      },
      "source": [
        "Operations(操作)涉及的语法和函数很多，大多数都是相通的，下面我们列举一些常用操作及其用法示例。\n",
        "\n",
        "### 张量间的元素级的四则运算，加减乘除\n",
        "\n",
        "有多种不同的使用方法，以加法为例：\n",
        "- 语法1:`x+y`\n",
        "- 语法2:`torch.add(x,y)`\n",
        "- 语法3:`torch.add(x,y,out=z3)` 通过参数的形式进行输出tensor的保存\n",
        "- 语法4：通过in-place操作直接将计算结果覆盖到y上,`y.add_(x)`。在Pytorch中，我们约定凡是会覆盖函数调用主体的in-place操作，都以后缀`_`结束，例如：\n",
        "`x.copy_(y)`，`x.t_()`，都会改变x的取值。"
      ]
    },
    {
      "cell_type": "code",
      "execution_count": null,
      "metadata": {
        "colab": {
          "base_uri": "https://localhost:8080/"
        },
        "id": "yvCp_5XDEuwN",
        "outputId": "18f18878-17a8-4d58-a058-5b80dde478e5"
      },
      "outputs": [
        {
          "output_type": "stream",
          "name": "stdout",
          "text": [
            "语法1：\n",
            "tensor([[1.6011, 1.2404, 1.0123],\n",
            "        [1.3666, 1.3929, 1.6510],\n",
            "        [1.0998, 1.0169, 1.8071],\n",
            "        [1.1632, 1.5429, 1.7186],\n",
            "        [1.0130, 1.5973, 1.5327]])\n",
            "语法2：\n",
            "tensor([[1.6011, 1.2404, 1.0123],\n",
            "        [1.3666, 1.3929, 1.6510],\n",
            "        [1.0998, 1.0169, 1.8071],\n",
            "        [1.1632, 1.5429, 1.7186],\n",
            "        [1.0130, 1.5973, 1.5327]])\n",
            "语法3：\n",
            "tensor([[1.6011, 1.2404, 1.0123],\n",
            "        [1.3666, 1.3929, 1.6510],\n",
            "        [1.0998, 1.0169, 1.8071],\n",
            "        [1.1632, 1.5429, 1.7186],\n",
            "        [1.0130, 1.5973, 1.5327]])\n",
            "语法4：\n",
            "tensor([[1.6011, 1.2404, 1.0123],\n",
            "        [1.3666, 1.3929, 1.6510],\n",
            "        [1.0998, 1.0169, 1.8071],\n",
            "        [1.1632, 1.5429, 1.7186],\n",
            "        [1.0130, 1.5973, 1.5327]])\n"
          ]
        }
      ],
      "source": [
        "x = torch.rand(5,3)\n",
        "y = torch.ones(5,3)\n",
        "print('语法1：'),print(x+y)\n",
        "print('语法2：'),print(torch.add(x,y))\n",
        "z3 = torch.ones(5,3)\n",
        "torch.add(x,y,out=z3)\n",
        "print('语法3：')\n",
        "print(z3)\n",
        "print('语法4：')\n",
        "print(y.add_(x))"
      ]
    },
    {
      "cell_type": "markdown",
      "metadata": {
        "id": "LR5Jf6oOLDnk"
      },
      "source": [
        "张量之间的减法、点乘和点除的用法是类似的："
      ]
    },
    {
      "cell_type": "code",
      "execution_count": null,
      "metadata": {
        "colab": {
          "base_uri": "https://localhost:8080/"
        },
        "id": "upa5rE5kLEJR",
        "outputId": "69e8e18f-bee9-48d9-dab4-e2e520914037"
      },
      "outputs": [
        {
          "output_type": "stream",
          "name": "stdout",
          "text": [
            "tensor([[ 1.2281, -0.3011, -0.5004],\n",
            "        [-3.1214, -1.0351,  0.4774]])\n",
            "tensor([[ 0.1763,  0.4996, -0.4128],\n",
            "        [-1.3122, -0.1343,  0.1915]])\n",
            "tensor([[ 1.0519, -0.8007, -0.0876],\n",
            "        [-1.8092, -0.9009,  0.2859]])\n",
            "tensor([[ 0.2165, -0.1504,  0.2065],\n",
            "        [ 4.0959,  0.1390,  0.0914]])\n",
            "tensor([[ 6.9678, -0.6026,  1.2122],\n",
            "        [ 2.3788,  7.7103,  2.4932]])\n"
          ]
        }
      ],
      "source": [
        "a =torch.randn(2,3)\n",
        "print(a)\n",
        "b =torch.randn(2,3)\n",
        "print(b)\n",
        "\n",
        "c =torch.sub(a, b)\n",
        "print(c)\n",
        "d =torch.mul(a, b)\n",
        "print(d)\n",
        "e =torch.div(a, b)\n",
        "print(e)\n"
      ]
    },
    {
      "cell_type": "markdown",
      "metadata": {
        "id": "ZS_-3Z6uLbFD"
      },
      "source": [
        "当然，张量和常数间的基本运算也是支持的"
      ]
    },
    {
      "cell_type": "code",
      "execution_count": null,
      "metadata": {
        "colab": {
          "base_uri": "https://localhost:8080/"
        },
        "id": "Rue6AbKaLcuo",
        "outputId": "3654ba04-07bf-49ad-b488-971a01c83bea"
      },
      "outputs": [
        {
          "output_type": "stream",
          "name": "stdout",
          "text": [
            "tensor([[ 0.1228, -0.7432, -0.9883],\n",
            "        [-0.2786,  0.5513,  0.2165]])\n",
            "tensor([[ 1.2278, -7.4320, -9.8825],\n",
            "        [-2.7861,  5.5132,  2.1645]])\n",
            "tensor([[ 0.0123, -0.0743, -0.0988],\n",
            "        [-0.0279,  0.0551,  0.0216]])\n"
          ]
        }
      ],
      "source": [
        "a =torch.randn(2,3)\n",
        "print(a)\n",
        "b =torch.mul(a,10)\n",
        "print(b)\n",
        "c =torch.div(a,10)\n",
        "print(c)\n"
      ]
    },
    {
      "cell_type": "markdown",
      "metadata": {
        "id": "8NZaQ8cHL8oJ"
      },
      "source": [
        "矩阵乘法\n",
        "- `torch.mm`只能用于二维矩阵间的乘法\n",
        "- `torch.matmul`用于高维矩阵相乘"
      ]
    },
    {
      "cell_type": "code",
      "execution_count": null,
      "metadata": {
        "colab": {
          "base_uri": "https://localhost:8080/"
        },
        "id": "2yotc-_SL-Fb",
        "outputId": "6172707d-cea6-44fd-a9ff-0a78daf6eaf7"
      },
      "outputs": [
        {
          "output_type": "stream",
          "name": "stdout",
          "text": [
            "tensor([[1., 1., 1.],\n",
            "        [1., 1., 1.]])\n",
            "tensor([[1., 1.],\n",
            "        [1., 1.],\n",
            "        [1., 1.]])\n",
            "tensor([[3., 3.],\n",
            "        [3., 3.]])\n"
          ]
        }
      ],
      "source": [
        "a = torch.ones(2,3)\n",
        "b = torch.ones(3,2)\n",
        "print(a,b,sep='\\n')\n",
        "print(torch.mm(a,b))"
      ]
    },
    {
      "cell_type": "code",
      "source": [
        "a = torch.ones(3,4)\n",
        "b = torch.ones(5,4,2)\n",
        "torch.matmul(a, b).shape"
      ],
      "metadata": {
        "colab": {
          "base_uri": "https://localhost:8080/"
        },
        "id": "Qv3l0XYp3bzy",
        "outputId": "cf3e213c-5ed4-4394-94bd-3ef6ab710208"
      },
      "execution_count": null,
      "outputs": [
        {
          "output_type": "execute_result",
          "data": {
            "text/plain": [
              "torch.Size([5, 3, 2])"
            ]
          },
          "metadata": {},
          "execution_count": 16
        }
      ]
    },
    {
      "cell_type": "markdown",
      "metadata": {
        "id": "abhWUczzM13R"
      },
      "source": [
        "其他\n",
        "- `torch.abs`:计算张量的绝对值  \n",
        "- `torch.pow`:求幂操作"
      ]
    },
    {
      "cell_type": "code",
      "execution_count": null,
      "metadata": {
        "id": "cGeLzg0GM4C4",
        "colab": {
          "base_uri": "https://localhost:8080/"
        },
        "outputId": "9d3723a6-5b3d-4fa8-c8f8-58e4d6aef21a"
      },
      "outputs": [
        {
          "output_type": "stream",
          "name": "stdout",
          "text": [
            "tensor([[-0.5341,  0.0464,  0.2441],\n",
            "        [-0.0784, -0.2015,  0.3103],\n",
            "        [ 0.0269,  0.3478, -0.5795]])\n",
            "tensor([[0.5341, 0.0464, 0.2441],\n",
            "        [0.0784, 0.2015, 0.3103],\n",
            "        [0.0269, 0.3478, 0.5795]])\n"
          ]
        }
      ],
      "source": [
        "a = torch.randn(3,3)\n",
        "print(a,torch.abs(a),sep='\\n')"
      ]
    },
    {
      "cell_type": "code",
      "execution_count": null,
      "metadata": {
        "id": "uGyF_wfENj3T",
        "colab": {
          "base_uri": "https://localhost:8080/"
        },
        "outputId": "dce70102-6e9f-4eb0-e309-8a277b5bd572"
      },
      "outputs": [
        {
          "output_type": "stream",
          "name": "stdout",
          "text": [
            "tensor([[-0.0589,  1.1229,  0.2457],\n",
            "        [ 1.3426, -0.5093,  1.4600]])\n",
            "tensor([[0.0035, 1.2609, 0.0604],\n",
            "        [1.8025, 0.2594, 2.1317]])\n"
          ]
        }
      ],
      "source": [
        "a = torch.randn(2, 3)\n",
        "print(a)\n",
        "b = torch.pow(a, 2)\n",
        "print(b)\n"
      ]
    },
    {
      "cell_type": "markdown",
      "metadata": {
        "id": "mw2_uz24OWM2"
      },
      "source": [
        "- `Numpy-like`的索引操作"
      ]
    },
    {
      "cell_type": "code",
      "execution_count": null,
      "metadata": {
        "id": "5CIGkPR6OgoT",
        "colab": {
          "base_uri": "https://localhost:8080/"
        },
        "outputId": "9c942a18-b551-4d6d-8215-dfe477239d15"
      },
      "outputs": [
        {
          "output_type": "stream",
          "name": "stdout",
          "text": [
            "tensor([-0.0589,  1.3426])\n"
          ]
        }
      ],
      "source": [
        "print(a[:,0])"
      ]
    },
    {
      "cell_type": "markdown",
      "metadata": {
        "id": "yZ24Jn6vPMey"
      },
      "source": [
        "- `Resize`操作：\n",
        "如果你想要对tensor进行类似`resize/reshape`的操作，你可以使用  \n",
        "`torch.view(*shape) -> tensor`: Returns a new tensor with the same data as the self tensor but of a different shape.  \n",
        "Parameters  \n",
        "shape (torch.Size or int...) – the desired size"
      ]
    },
    {
      "cell_type": "code",
      "execution_count": null,
      "metadata": {
        "id": "CtuCfOdhPOwT",
        "colab": {
          "base_uri": "https://localhost:8080/"
        },
        "outputId": "27265bb5-1114-4cac-ebc8-78f3c938fa51"
      },
      "outputs": [
        {
          "output_type": "stream",
          "name": "stdout",
          "text": [
            "torch.Size([4, 4]) torch.Size([16]) torch.Size([2, 8])\n"
          ]
        }
      ],
      "source": [
        "x = torch.randn(4, 4)\n",
        "y = x.view(16)\n",
        "z = x.view(-1, 8)   # 使用-1时pytorch将会自动根据其他维度进行推导\n",
        "print(x.size(), y.size(), z.size())  "
      ]
    },
    {
      "cell_type": "markdown",
      "metadata": {
        "id": "YNcy_tLASesF"
      },
      "source": [
        "- `item()`:如果有一个tensor，只包含一个元素，你可以使用.item()来获得它对应的Python形式的取值"
      ]
    },
    {
      "cell_type": "code",
      "execution_count": null,
      "metadata": {
        "id": "sHz30m-ESmaz",
        "colab": {
          "base_uri": "https://localhost:8080/"
        },
        "outputId": "114c6681-71bd-4679-8dd9-fcf5e03e2074"
      },
      "outputs": [
        {
          "output_type": "stream",
          "name": "stdout",
          "text": [
            "tensor([-0.7304]) torch.Size([1])\n",
            "-0.7304401993751526 <class 'float'>\n"
          ]
        }
      ],
      "source": [
        "a = torch.randn(1)\n",
        "print(a,a.size())\n",
        "print(a.item(),type(a.item()))"
      ]
    },
    {
      "cell_type": "markdown",
      "metadata": {
        "id": "-YKLveyZTXnm"
      },
      "source": [
        "- `torch.clamp`：通常我们在需要控制张量的取值范围不越界时，需要用到torch.clamp函数，它可以对输入参数按照自定义的范围进行裁剪，最后将参数裁剪的结果作为输出。输入参数一共有三个，分别是需要进行裁剪的Tensor变量、裁剪的下边界和裁剪的上边界"
      ]
    },
    {
      "cell_type": "code",
      "execution_count": null,
      "metadata": {
        "colab": {
          "base_uri": "https://localhost:8080/"
        },
        "id": "jL6UzRsuTdaR",
        "outputId": "69286619-b51a-4813-fe4a-a8a775183a14"
      },
      "outputs": [
        {
          "output_type": "stream",
          "name": "stdout",
          "text": [
            "tensor([[-0.5558, -0.7792,  0.2743],\n",
            "        [ 1.2873,  0.1710, -1.8474]])\n",
            "tensor([[-0.5000, -0.5000,  0.2743],\n",
            "        [ 0.5000,  0.1710, -0.5000]])\n"
          ]
        }
      ],
      "source": [
        "import torch\n",
        "a =torch.randn(2,3)\n",
        "print(a)\n",
        "b =torch.clamp(a, -0.5, 0.5)\n",
        "print(b)"
      ]
    },
    {
      "cell_type": "markdown",
      "source": [
        "### Indexing, Slicing, Joining, Mutating Ops(变异操作)\n",
        "- [torch.t](https://pytorch.org/docs/stable/generated/torch.t.html#torch.t): Expects input to be <= 2-D tensor and transposes dimensions 0 and 1. And 2-D tensor can be seen as a short-hand function for `transpose(input,0,1)`\n",
        "转置二维矩阵，是`transpose()`的缩写\n",
        "- [torch.transpose](https://pytorch.org/docs/stable/generated/torch.transpose.html#torch.transpose)：对一个n维tensor交换其任意两个维度的顺序"
      ],
      "metadata": {
        "id": "CrjjCGLj4Uc6"
      }
    },
    {
      "cell_type": "code",
      "source": [
        "x = torch.randn(2, 3)\n",
        "print(x)\n",
        "print(torch.transpose(x, 0, 1))\n",
        "print(x.t())\n"
      ],
      "metadata": {
        "colab": {
          "base_uri": "https://localhost:8080/"
        },
        "id": "XCsBTRPW6sAL",
        "outputId": "5491a67f-e89f-4240-8fb1-1a4d3b5cefbc"
      },
      "execution_count": null,
      "outputs": [
        {
          "output_type": "stream",
          "name": "stdout",
          "text": [
            "tensor([[-2.2447,  0.2112, -0.1809],\n",
            "        [-0.1992,  1.0768, -1.1316]])\n",
            "tensor([[-2.2447, -0.1992],\n",
            "        [ 0.2112,  1.0768],\n",
            "        [-0.1809, -1.1316]])\n",
            "tensor([[-2.2447, -0.1992],\n",
            "        [ 0.2112,  1.0768],\n",
            "        [-0.1809, -1.1316]])\n"
          ]
        }
      ]
    },
    {
      "cell_type": "markdown",
      "source": [
        "### Math operations、Pointwise Ops（数学运算、逐点操作）\n",
        "- [tanh](https://vimsky.com/examples/usage/python-pytorch-tanh-method.html):为PyTorch中的双曲正切函数提供支持。它期望输入为弧度形式，并且输出在[-∞，∞]范围内。输入类型为张量，如果输入包含多个元素，则将计算按元素的双曲正切值。"
      ],
      "metadata": {
        "id": "npCGkdjb92gs"
      }
    },
    {
      "cell_type": "markdown",
      "metadata": {
        "id": "AB7fLn7RTrOU"
      },
      "source": [
        "## 3.Numpy桥梁"
      ]
    },
    {
      "cell_type": "markdown",
      "metadata": {
        "id": "M7BZju5pUZsC"
      },
      "source": [
        "Pytorch中可以很方便的将Torch的Tensor同Numpy的ndarray进行互相转换，相当于在Numpy和Pytorch间建立了一座沟通的桥梁，这将会让我们的想法实现起来变得非常方便。\n",
        "\n",
        "注：Torch Tensor 和 Numpy ndarray 底层是分享内存空间的，也就是说改变其中之一会同时改变另一个（前提是你是在CPU上使用Torch Tensor）。**注：所有CPU上的Tensors，除了CharTensor均支持与Numpy的互相转换。**\n",
        "\n",
        "- 将一个Torch Tensor 转换为 Numpy Array"
      ]
    },
    {
      "cell_type": "code",
      "execution_count": null,
      "metadata": {
        "id": "C62alzf1Utux"
      },
      "outputs": [],
      "source": [
        "a = torch.ones(5)\n",
        "print(a)\n",
        "b = a.numpy()\n",
        "print(b)\n",
        "# 共享内存空间\n",
        "a.add_(1)\n",
        "print(a)\n",
        "print(b)"
      ]
    },
    {
      "cell_type": "markdown",
      "metadata": {
        "id": "hOLQF8VlU27D"
      },
      "source": [
        "- 将一个 Numpy Array 转换为 Torch Tensor"
      ]
    },
    {
      "cell_type": "code",
      "execution_count": null,
      "metadata": {
        "id": "gb1-k0ylU6Ag",
        "colab": {
          "base_uri": "https://localhost:8080/"
        },
        "outputId": "c15ac2d6-6fca-448c-df17-fae82b56b157"
      },
      "outputs": [
        {
          "output_type": "stream",
          "name": "stdout",
          "text": [
            "[2. 2. 2. 2. 2.]\n",
            "tensor([2., 2., 2., 2., 2.], dtype=torch.float64)\n"
          ]
        }
      ],
      "source": [
        "import numpy as np\n",
        "a = np.ones(5)\n",
        "b = torch.from_numpy(a)\n",
        "np.add(a,1,out=a)\n",
        "print(a)\n",
        "print(b) "
      ]
    },
    {
      "cell_type": "markdown",
      "source": [
        "## 4.CUDA Tensors"
      ],
      "metadata": {
        "id": "NkvaesTzZSQK"
      }
    },
    {
      "cell_type": "markdown",
      "source": [
        "通过以下代码进行验证GPU环境："
      ],
      "metadata": {
        "id": "O9fS6WZFabwK"
      }
    },
    {
      "cell_type": "code",
      "source": [
        "# 必须切换至GPU环境\n",
        "print(torch.cuda.is_available())"
      ],
      "metadata": {
        "colab": {
          "base_uri": "https://localhost:8080/"
        },
        "id": "_XqgbIBaZaal",
        "outputId": "bde94a60-4b0b-425a-df52-b87abbfa7298"
      },
      "execution_count": null,
      "outputs": [
        {
          "output_type": "stream",
          "name": "stdout",
          "text": [
            "True\n"
          ]
        }
      ]
    },
    {
      "cell_type": "markdown",
      "source": [
        "Tensors可以通过.to函数移动到任何我们定义的设备device上，观察如下代码："
      ],
      "metadata": {
        "id": "Ph4BM9WsZVsz"
      }
    },
    {
      "cell_type": "code",
      "source": [
        "# let us run this cell only if CUDA is available\n",
        "# We will use ``torch.device`` objects to move tensors in and out of GPU\n",
        "if torch.cuda.is_available():\n",
        "    device = torch.device(\"cuda\")          # a CUDA device object\n",
        "    y = torch.ones_like(x, device=device)  # directly create a tensor on GPU\n",
        "    x = x.to(device)                       # or just use strings ``.to(\"cuda\")``\n",
        "    z = x + y\n",
        "    print(z)\n",
        "    print(z.to(\"cpu\", torch.double))       # ``.to`` can also change dtype together!  \n"
      ],
      "metadata": {
        "colab": {
          "base_uri": "https://localhost:8080/"
        },
        "id": "FsKIrCdDalsz",
        "outputId": "e15066b3-727f-4d21-a162-626d8baf3681"
      },
      "execution_count": null,
      "outputs": [
        {
          "output_type": "stream",
          "name": "stdout",
          "text": [
            "tensor([[-6.7065e+07,  1.0000e+00,  1.0000e+00],\n",
            "        [ 1.0000e+00,         nan,  1.0000e+00],\n",
            "        [ 1.1578e+27,  1.1362e+30,  7.1547e+22],\n",
            "        [ 4.5828e+30,  1.2122e+04,  7.1846e+22],\n",
            "        [ 1.0000e+00,  7.0374e+22, -1.4291e+07]], device='cuda:0')\n",
            "tensor([[-6.7065e+07,  1.0000e+00,  1.0000e+00],\n",
            "        [ 1.0000e+00,         nan,  1.0000e+00],\n",
            "        [ 1.1578e+27,  1.1362e+30,  7.1547e+22],\n",
            "        [ 4.5828e+30,  1.2122e+04,  7.1846e+22],\n",
            "        [ 1.0000e+00,  7.0374e+22, -1.4291e+07]], dtype=torch.float64)\n"
          ]
        }
      ]
    }
  ],
  "metadata": {
    "colab": {
      "collapsed_sections": [
        "Li96weOHELNM",
        "CK0EJQT3A7AU",
        "Q60PpLVIBHWP",
        "5-5ek39nBp0Q",
        "jdW919X2DLMw",
        "DR127azvEdOb"
      ],
      "name": "DL-1.ipynb",
      "provenance": [],
      "authorship_tag": "ABX9TyOCPAk02qrSczUh7AO27CWX",
      "include_colab_link": true
    },
    "kernelspec": {
      "display_name": "Python 3",
      "name": "python3"
    },
    "language_info": {
      "name": "python"
    }
  },
  "nbformat": 4,
  "nbformat_minor": 0
}